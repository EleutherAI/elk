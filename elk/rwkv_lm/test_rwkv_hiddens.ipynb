{
 "cells": [
  {
   "cell_type": "code",
   "execution_count": 5,
   "metadata": {},
   "outputs": [
    {
     "name": "stdout",
     "output_type": "stream",
     "text": [
      "RWKV_JIT_ON 1 RWKV_CUDA_ON 0 RESCALE_LAYER 6\n",
      "\n",
      "Loading /home/kyle/HF-MODEL/rwkv-4-pile-1b5/models--BlinkDL--rwkv-4-pile-1b5/snapshots/6ea995eaa87a17af560c9b41ce1a3d92355c5a49/RWKV-4-Pile-1B5-20220903-8040.pth ...\n",
      "Strategy: (total 24+1=25 layers)\n",
      "* cuda [float16, float16], store 25 layers\n",
      "0-cuda-float16-float16 1-cuda-float16-float16 2-cuda-float16-float16 3-cuda-float16-float16 4-cuda-float16-float16 5-cuda-float16-float16 6-cuda-float16-float16 7-cuda-float16-float16 8-cuda-float16-float16 9-cuda-float16-float16 10-cuda-float16-float16 11-cuda-float16-float16 12-cuda-float16-float16 13-cuda-float16-float16 14-cuda-float16-float16 15-cuda-float16-float16 16-cuda-float16-float16 17-cuda-float16-float16 18-cuda-float16-float16 19-cuda-float16-float16 20-cuda-float16-float16 21-cuda-float16-float16 22-cuda-float16-float16 23-cuda-float16-float16 24-cuda-float16-float16 \n",
      "emb.weight                        f16      cpu  50277  2048 \n",
      "blocks.0.ln1.weight               f16   cuda:0   2048       \n",
      "blocks.0.ln1.bias                 f16   cuda:0   2048       \n",
      "blocks.0.ln2.weight               f16   cuda:0   2048       \n",
      "blocks.0.ln2.bias                 f16   cuda:0   2048       \n",
      "blocks.0.att.time_decay           f32   cuda:0   2048       \n",
      "blocks.0.att.time_first           f32   cuda:0   2048       \n",
      "blocks.0.att.time_mix_k           f16   cuda:0   2048       \n",
      "blocks.0.att.time_mix_v           f16   cuda:0   2048       \n",
      "blocks.0.att.time_mix_r           f16   cuda:0   2048       \n",
      "blocks.0.att.key.weight           f16   cuda:0   2048  2048 \n",
      "blocks.0.att.value.weight         f16   cuda:0   2048  2048 \n",
      "blocks.0.att.receptance.weight    f16   cuda:0   2048  2048 \n",
      "blocks.0.att.output.weight        f16   cuda:0   2048  2048 \n",
      "blocks.0.ffn.time_mix_k           f16   cuda:0   2048       \n",
      "blocks.0.ffn.time_mix_r           f16   cuda:0   2048       \n",
      "blocks.0.ffn.key.weight           f16   cuda:0   2048  8192 \n",
      "blocks.0.ffn.receptance.weight    f16   cuda:0   2048  2048 \n",
      "blocks.0.ffn.value.weight         f16   cuda:0   8192  2048 \n",
      "............................................................................................................................................................................................................................................................................................................................................................................................................\n",
      "blocks.23.ln1.weight              f16   cuda:0   2048       \n",
      "blocks.23.ln1.bias                f16   cuda:0   2048       \n",
      "blocks.23.ln2.weight              f16   cuda:0   2048       \n",
      "blocks.23.ln2.bias                f16   cuda:0   2048       \n",
      "blocks.23.att.time_decay          f32   cuda:0   2048       \n",
      "blocks.23.att.time_first          f32   cuda:0   2048       \n",
      "blocks.23.att.time_mix_k          f16   cuda:0   2048       \n",
      "blocks.23.att.time_mix_v          f16   cuda:0   2048       \n",
      "blocks.23.att.time_mix_r          f16   cuda:0   2048       \n",
      "blocks.23.att.key.weight          f16   cuda:0   2048  2048 \n",
      "blocks.23.att.value.weight        f16   cuda:0   2048  2048 \n",
      "blocks.23.att.receptance.weight   f16   cuda:0   2048  2048 \n",
      "blocks.23.att.output.weight       f16   cuda:0   2048  2048 \n",
      "blocks.23.ffn.time_mix_k          f16   cuda:0   2048       \n",
      "blocks.23.ffn.time_mix_r          f16   cuda:0   2048       \n",
      "blocks.23.ffn.key.weight          f16   cuda:0   2048  8192 \n",
      "blocks.23.ffn.receptance.weight   f16   cuda:0   2048  2048 \n",
      "blocks.23.ffn.value.weight        f16   cuda:0   8192  2048 \n",
      "ln_out.weight                     f16   cuda:0   2048       \n",
      "ln_out.bias                       f16   cuda:0   2048       \n",
      "head.weight                       f16   cuda:0   2048 50277 \n"
     ]
    }
   ],
   "source": [
    "import os\n",
    "from rwkv_hiddens import RWKV\n",
    "from transformers import GPT2TokenizerFast\n",
    "os.environ[\"CUDA_VISIBLE_DEVICES\"] = \"0\"\n",
    "os.environ[\"RWKV_JIT_ON\"] = '1'\n",
    "os.environ[\"RWKV_CUDA_ON\"] = '0' # \n",
    "model = RWKV(model='/home/kyle/HF-MODEL/rwkv-4-pile-1b5/models--BlinkDL--rwkv-4-pile-1b5/snapshots/6ea995eaa87a17af560c9b41ce1a3d92355c5a49/RWKV-4-Pile-1B5-20220903-8040.pth', strategy='cuda fp16')"
   ]
  },
  {
   "cell_type": "code",
   "execution_count": 6,
   "metadata": {},
   "outputs": [],
   "source": [
    "tokenizer = GPT2TokenizerFast(tokenizer_file='20B_tokenizer.json')\n",
    "bad_review_text = 'George P. Cosmatos\\' \"Rambo: First Blood Part II\" is pure wish-fulfillment. The United States clearly didn\\'t win the war in Vietnam. They caused damage to this country beyond the imaginable and this movie continues the fairy story of the oh-so innocent soldiers. The only bad guys were the leaders of the nation, who made this war happen. The character of Rambo is perfect to notice this. He is extremely patriotic, bemoans that US-Americans didn\\'t appreciate and celebrate the achievements of the single soldier, but has nothing but distrust for leading officers and politicians. Like every film that defends the war (e.g. \"We Were Soldiers\") also this one avoids the need to give a comprehensible reason for the engagement in South Asia. And for that matter also the reason for every single US-American soldier that was there. Instead, Rambo gets to take revenge for the wounds of a whole nation. It would have been better to work on how to deal with the memories, rather than suppressing them. \"Do we get to win this time?\" Yes, you do.\\n\\nDid the reviewer find this movie good or bad? bad'\n",
    "good_review_text = 'George P. Cosmatos\\' \"Rambo: First Blood Part II\" is pure wish-fulfillment. The United States clearly didn\\'t win the war in Vietnam. They caused damage to this country beyond the imaginable and this movie continues the fairy story of the oh-so innocent soldiers. The only bad guys were the leaders of the nation, who made this war happen. The character of Rambo is perfect to notice this. He is extremely patriotic, bemoans that US-Americans didn\\'t appreciate and celebrate the achievements of the single soldier, but has nothing but distrust for leading officers and politicians. Like every film that defends the war (e.g. \"We Were Soldiers\") also this one avoids the need to give a comprehensible reason for the engagement in South Asia. And for that matter also the reason for every single US-American soldier that was there. Instead, Rambo gets to take revenge for the wounds of a whole nation. It would have been better to work on how to deal with the memories, rather than suppressing them. \"Do we get to win this time?\" Yes, you do.\\n\\nDid the reviewer find this movie good or bad? good'"
   ]
  },
  {
   "cell_type": "code",
   "execution_count": 8,
   "metadata": {},
   "outputs": [
    {
     "name": "stdout",
     "output_type": "stream",
     "text": [
      "Input IDs shape = {'input_ids': tensor([[23108,   367,    15, 18084,  2056,   375,     8,   346,    51, 47311,\n",
      "            27,  3973, 14169,  3512,  3719,     3,   310,  6313,  5730,    14,\n",
      "          1020,  9337,   420,    15,   380,  1986,  2077,  4518,  1904,   626,\n",
      "          3330,   253,  2137,   275, 15732,    15,  1583,  4269,  4723,   281,\n",
      "           436,  2586,  4457,   253, 30087,   494,   285,   436,  6440,  7788,\n",
      "           253, 33784,  2926,   273,   253, 12506,    14,   601, 15377,  9647,\n",
      "            15,   380,   760,  3076,  6068,   497,   253,  7038,   273,   253,\n",
      "          5674,    13,   665,  1160,   436,  2137,  5108,    15,   380,  1894,\n",
      "           273,   416, 47311,   310,  3962,   281,  4366,   436,    15,   754,\n",
      "           310,  6685, 50174,    13,   320,  6972,   507,   326,  1982,    14,\n",
      "         34436,  1904,   626, 11435,   285, 17019,   253, 26751,   273,   253,\n",
      "          2014, 15796,    13,   533,   556,  2717,   533, 48655,   323,  4283,\n",
      "          6251,   285, 13557,    15,  6975,  1046,  3085,   326,   809,  1727,\n",
      "           253,  2137,   313,    70,    15,    72,    15,   346,  1231, 27200,\n",
      "         29668,  4670,  2807,   671,   436,   581, 32547,   253,   878,   281,\n",
      "          1918,   247, 28535,  6286,  1921,   323,   253, 13226,   275,  3684,\n",
      "         10497,    15,  1244,   323,   326,  2647,   671,   253,  1921,   323,\n",
      "          1046,  2014,  1982,    14,  7878, 15796,   326,   369,   627,    15,\n",
      "          7820,    13,   416, 47311,  4850,   281,  1379, 25442,   323,   253,\n",
      "         19952,   273,   247,  2644,  5674,    15,   733,   651,   452,   644,\n",
      "          1805,   281,   789,   327,   849,   281,  2968,   342,   253, 12959,\n",
      "            13,  2581,   685, 35582,   731,    15,   346,  4045,   359,   755,\n",
      "           281,  3330,   436,   673,   865,  6279,    13,   368,   513,    15,\n",
      "           187,   187,  8917,   253, 37317,  1089,   436,  6440,  1175,   390,\n",
      "          3076,    32,  3076]]), 'attention_mask': tensor([[1, 1, 1, 1, 1, 1, 1, 1, 1, 1, 1, 1, 1, 1, 1, 1, 1, 1, 1, 1, 1, 1, 1, 1,\n",
      "         1, 1, 1, 1, 1, 1, 1, 1, 1, 1, 1, 1, 1, 1, 1, 1, 1, 1, 1, 1, 1, 1, 1, 1,\n",
      "         1, 1, 1, 1, 1, 1, 1, 1, 1, 1, 1, 1, 1, 1, 1, 1, 1, 1, 1, 1, 1, 1, 1, 1,\n",
      "         1, 1, 1, 1, 1, 1, 1, 1, 1, 1, 1, 1, 1, 1, 1, 1, 1, 1, 1, 1, 1, 1, 1, 1,\n",
      "         1, 1, 1, 1, 1, 1, 1, 1, 1, 1, 1, 1, 1, 1, 1, 1, 1, 1, 1, 1, 1, 1, 1, 1,\n",
      "         1, 1, 1, 1, 1, 1, 1, 1, 1, 1, 1, 1, 1, 1, 1, 1, 1, 1, 1, 1, 1, 1, 1, 1,\n",
      "         1, 1, 1, 1, 1, 1, 1, 1, 1, 1, 1, 1, 1, 1, 1, 1, 1, 1, 1, 1, 1, 1, 1, 1,\n",
      "         1, 1, 1, 1, 1, 1, 1, 1, 1, 1, 1, 1, 1, 1, 1, 1, 1, 1, 1, 1, 1, 1, 1, 1,\n",
      "         1, 1, 1, 1, 1, 1, 1, 1, 1, 1, 1, 1, 1, 1, 1, 1, 1, 1, 1, 1, 1, 1, 1, 1,\n",
      "         1, 1, 1, 1, 1, 1, 1, 1, 1, 1, 1, 1, 1, 1, 1, 1, 1, 1, 1, 1, 1, 1, 1, 1,\n",
      "         1, 1, 1]])}\n"
     ]
    }
   ],
   "source": [
    "tokens = tokenizer(bad_review_text, return_tensors=\"pt\")\n",
    "print(f\"Input IDs shape = {tokens}\")\n",
    "next_token, states = model(tokens['input_ids'], state=None)"
   ]
  },
  {
   "cell_type": "code",
   "execution_count": 13,
   "metadata": {},
   "outputs": [
    {
     "data": {
      "text/plain": [
       "tensor([[ 0.3049, -0.2849,  0.9170,  ...,  0.1553,  1.3213, -0.3572],\n",
       "        [-0.7993, -0.2822, -0.1133,  ..., -0.1379, -1.3965,  1.6523],\n",
       "        [ 0.1072,  0.4023,  0.8564,  ..., -0.8545,  0.2625,  1.0127],\n",
       "        ...,\n",
       "        [-0.1168, -1.7871, -0.1105,  ..., -1.5684, -0.4348, -0.5977],\n",
       "        [-0.6416, -1.5850,  0.8481,  ..., -0.0656, -0.1783, -0.3477],\n",
       "        [-0.1168, -1.7871, -0.1105,  ..., -1.5684, -0.4348, -0.5977]],\n",
       "       device='cuda:0', dtype=torch.float16)"
      ]
     },
     "execution_count": 13,
     "metadata": {},
     "output_type": "execute_result"
    }
   ],
   "source": [
    "states[-1]"
   ]
  }
 ],
 "metadata": {
  "kernelspec": {
   "display_name": "kyle-elk-rwkv",
   "language": "python",
   "name": "python3"
  },
  "language_info": {
   "codemirror_mode": {
    "name": "ipython",
    "version": 3
   },
   "file_extension": ".py",
   "mimetype": "text/x-python",
   "name": "python",
   "nbconvert_exporter": "python",
   "pygments_lexer": "ipython3",
   "version": "3.10.10"
  },
  "orig_nbformat": 4
 },
 "nbformat": 4,
 "nbformat_minor": 2
}
